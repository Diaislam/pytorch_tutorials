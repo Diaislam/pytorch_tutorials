{
 "cells": [
  {
   "cell_type": "markdown",
   "metadata": {},
   "source": [
    "# python basic tutorial\n",
    "In this course we will go fast with the basic python syntax to refresh your memory"
   ]
  },
  {
   "cell_type": "code",
   "execution_count": null,
   "metadata": {},
   "outputs": [],
   "source": [
    "# the python print can take any number of parameters they will be converted to string and separated by spaces\n",
    "# Examples\n",
    "print(\"Hello Python\")\n",
    "print(\"Hello I am \",18,\"years old\")\n",
    "\n",
    "# change the separator with sep=\"\"\n",
    "print(8,9,10,sep=\"+\")\n",
    "\n",
    "# another way to do it\n",
    "print('hello everyone my name is %s and i am %s years old' % (\"Pytorch\",18))"
   ]
  },
  {
   "cell_type": "code",
   "execution_count": null,
   "metadata": {},
   "outputs": [],
   "source": [
    "# Some python operations\n",
    "\n",
    "# int variable\n",
    "age = 18\n",
    "\n",
    "# cast int to string\n",
    "age_string = str(age)\n",
    "\n",
    "# cast string to int\n",
    "age = int(age_string)\n",
    "\n",
    "# list\n",
    "grades = [20,19,0,14,9,5,7,15.5]\n",
    "\n",
    "# using python built functions\n",
    "# you guessed it right sum it sums, len it gives you the list length\n",
    "moy = sum(grades) / len(grades)\n",
    "\n",
    "print('you got',int(moy))\n",
    "\n",
    "# if else statements\n",
    "if moy >= 10:\n",
    "    print('accepted')\n",
    "elif moy < 10 and moy >9:\n",
    "    print('added to queu')\n",
    "else:\n",
    "    print('rejected')"
   ]
  },
  {
   "cell_type": "code",
   "execution_count": null,
   "metadata": {},
   "outputs": [],
   "source": [
    "#list oprations and loops\n",
    "\n",
    "list = [\"orange\",\"apple\",\"banana\",\"strawberry\"]\n",
    "choice = \"pear\"\n",
    "\n",
    "# check if choice exist in list\n",
    "if choice in list:\n",
    "    print('you will be served')\n",
    "else:\n",
    "    print(\"we don't offer this\")\n",
    "\n",
    "grades = [20,19,0,14,9,5,7,15.5]\n",
    "# this will order a list with reversed yes/no\n",
    "grades.sort(reverse=False)\n",
    "print(grades)\n",
    "\n",
    "# removing non int elements from a list using the \n",
    "for element in grades:\n",
    "    if not isinstance(element, int):\n",
    "        \n",
    "        # remove from list\n",
    "        grades.remove(element)\n",
    "\n",
    "print(grades)\n",
    "\n",
    "# another way to parcour a list\n",
    "\n",
    "# while loops\n",
    "attemp = 0\n",
    "while (attemp < 20):\n",
    "\n",
    "    print(\"attempt number\",attemp)\n",
    "    \n",
    "    # a way to write attempt = attempt + 1\n",
    "    attemp += 1\n",
    "\n",
    "# tuples\n",
    "mytuple = (\"dog\", \"cat\", \"pinguin\")\n",
    "print(mytuple)\n",
    "\n",
    "# transform it to array with adding ! to each element\n",
    "my_array = [element+\"!\" for element in mytuple]\n",
    "print(my_array)\n"
   ]
  },
  {
   "cell_type": "code",
   "execution_count": null,
   "metadata": {},
   "outputs": [],
   "source": [
    "# dicts\n",
    "\n",
    "# simple dict\n",
    "my_dict =  {\"A\":1,\"B\":2}\n",
    "print(my_dict)\n",
    "\n",
    "# empty dict\n",
    "my_dict = dict()\n",
    "\n",
    "#add to dict\n",
    "\n",
    "my_dict[\"apple\"] = 2000\n",
    "my_dict[\"google\"] = 1000\n",
    "my_dict[\"microsoft\"] = 1000\n",
    "\n",
    "print(\"microsoft is worth\",my_dict[\"microsoft\"],\"billion\")\n",
    "\n",
    "# going through a dict\n",
    "for key,value in my_dict.items():\n",
    "    print(key,\"is worth\",value)\n",
    "\n",
    "# going through keys\n",
    "print (\"-----------------------\")\n",
    "for key in my_dict:\n",
    "    print(key,my_dict[key])"
   ]
  },
  {
   "cell_type": "code",
   "execution_count": null,
   "metadata": {},
   "outputs": [],
   "source": [
    "# TODO"
   ]
  },
  {
   "cell_type": "markdown",
   "metadata": {},
   "source": []
  }
 ],
 "metadata": {
  "interpreter": {
   "hash": "baa8157076f2c0bd2cdaf88c01bac6f9f54e9d333cc069b2519f3a0b8947a3a6"
  },
  "kernelspec": {
   "display_name": "Python 3.8.13 ('pytorch')",
   "language": "python",
   "name": "python3"
  },
  "language_info": {
   "codemirror_mode": {
    "name": "ipython",
    "version": 3
   },
   "file_extension": ".py",
   "mimetype": "text/x-python",
   "name": "python",
   "nbconvert_exporter": "python",
   "pygments_lexer": "ipython3",
   "version": "3.8.13"
  },
  "orig_nbformat": 4
 },
 "nbformat": 4,
 "nbformat_minor": 2
}
